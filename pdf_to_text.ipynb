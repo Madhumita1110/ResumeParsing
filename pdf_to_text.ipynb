{
 "cells": [
  {
   "cell_type": "code",
   "execution_count": 9,
   "metadata": {},
   "outputs": [
    {
     "name": "stdout",
     "output_type": "stream",
     "text": [
      "Note: you may need to restart the kernel to use updated packages.\n"
     ]
    },
    {
     "name": "stderr",
     "output_type": "stream",
     "text": [
      "ERROR: Invalid requirement: '###install'\n"
     ]
    }
   ],
   "source": [
    "%pip install PyPDF2 ###install PyPDF2"
   ]
  },
  {
   "cell_type": "code",
   "execution_count": 1,
   "metadata": {},
   "outputs": [],
   "source": [
    "# Import required libraries\n",
    "import pandas as pd\n",
    "import os\n",
    "import PyPDF2"
   ]
  },
  {
   "cell_type": "markdown",
   "metadata": {},
   "source": [
    "Working on 4 job domains :- IT, HR, Engineering and Consultant"
   ]
  },
  {
   "cell_type": "code",
   "execution_count": 3,
   "metadata": {},
   "outputs": [
    {
     "data": {
      "text/html": [
       "<div>\n",
       "<style scoped>\n",
       "    .dataframe tbody tr th:only-of-type {\n",
       "        vertical-align: middle;\n",
       "    }\n",
       "\n",
       "    .dataframe tbody tr th {\n",
       "        vertical-align: top;\n",
       "    }\n",
       "\n",
       "    .dataframe thead th {\n",
       "        text-align: right;\n",
       "    }\n",
       "</style>\n",
       "<table border=\"1\" class=\"dataframe\">\n",
       "  <thead>\n",
       "    <tr style=\"text-align: right;\">\n",
       "      <th></th>\n",
       "      <th>Job_domain</th>\n",
       "      <th>Filename</th>\n",
       "    </tr>\n",
       "  </thead>\n",
       "  <tbody>\n",
       "    <tr>\n",
       "      <th>0</th>\n",
       "      <td>CONSULTANT</td>\n",
       "      <td>10332998.pdf</td>\n",
       "    </tr>\n",
       "    <tr>\n",
       "      <th>1</th>\n",
       "      <td>CONSULTANT</td>\n",
       "      <td>10984392.pdf</td>\n",
       "    </tr>\n",
       "    <tr>\n",
       "      <th>2</th>\n",
       "      <td>CONSULTANT</td>\n",
       "      <td>11020140.pdf</td>\n",
       "    </tr>\n",
       "    <tr>\n",
       "      <th>3</th>\n",
       "      <td>CONSULTANT</td>\n",
       "      <td>11333660.pdf</td>\n",
       "    </tr>\n",
       "    <tr>\n",
       "      <th>4</th>\n",
       "      <td>CONSULTANT</td>\n",
       "      <td>11415967.pdf</td>\n",
       "    </tr>\n",
       "  </tbody>\n",
       "</table>\n",
       "</div>"
      ],
      "text/plain": [
       "   Job_domain      Filename\n",
       "0  CONSULTANT  10332998.pdf\n",
       "1  CONSULTANT  10984392.pdf\n",
       "2  CONSULTANT  11020140.pdf\n",
       "3  CONSULTANT  11333660.pdf\n",
       "4  CONSULTANT  11415967.pdf"
      ]
     },
     "execution_count": 3,
     "metadata": {},
     "output_type": "execute_result"
    }
   ],
   "source": [
    "# Define the folder path where the PDF files are located\n",
    "folder_path = r'C:\\Users\\Dell\\OneDrive - Atlantic TU\\Dissertation_stuff\\Resume_dataset_livecareer\\data\\data'\n",
    "\n",
    "# Initialize an empty list to store dictionaries containing folder and filename information\n",
    "data = []\n",
    "\n",
    "# Walk through the directory tree rooted at the specified folder path\n",
    "for root, dirs, files in os.walk(folder_path):\n",
    "    # Iterate through each file in the current directory\n",
    "    for file in files:\n",
    "        # Check if the file has a .pdf extension\n",
    "        if file.endswith('.pdf'):\n",
    "            # Extract the folder name from the current root directory\n",
    "            folder_name = os.path.basename(root)\n",
    "            \n",
    "            # Construct the file path by joining the root directory path and the file name\n",
    "            file_path = os.path.join(root, file)\n",
    "            \n",
    "            # Append a dictionary with the folder and filename information to the data list\n",
    "            data.append({'Job_domain': folder_name, 'Filename': file})\n",
    "\n",
    "# Create a DataFrame using the data list\n",
    "df = pd.DataFrame(data)\n",
    "df.head()"
   ]
  },
  {
   "cell_type": "code",
   "execution_count": 4,
   "metadata": {},
   "outputs": [],
   "source": [
    "# Iterate through each row in the DataFrame\n",
    "for index, row in df.iterrows():\n",
    "    # Construct the file path using the folder, filename, and the base folder path\n",
    "    file_path = os.path.join(folder_path, row['Job_domain'], row['Filename'])\n",
    "    \n",
    "    # Open the PDF file in binary mode for reading\n",
    "    with open(file_path, 'rb') as pdf_file:\n",
    "        # Create a PdfReader object to read the PDF file\n",
    "        reader = PyPDF2.PdfReader(pdf_file)\n",
    "        \n",
    "        # Initialize an empty string to store the extracted text\n",
    "        text = \"\"\n",
    "        \n",
    "        # Iterate through each page in the PDF file\n",
    "        for page in reader.pages:\n",
    "            # Extract the text from the current page and append it to the 'text' string\n",
    "            text += page.extract_text()\n",
    "        \n",
    "        # Update the 'Text' column in the DataFrame with the extracted text\n",
    "        df.loc[index, 'Text'] = text\n"
   ]
  },
  {
   "cell_type": "code",
   "execution_count": 5,
   "metadata": {},
   "outputs": [
    {
     "data": {
      "text/html": [
       "<div>\n",
       "<style scoped>\n",
       "    .dataframe tbody tr th:only-of-type {\n",
       "        vertical-align: middle;\n",
       "    }\n",
       "\n",
       "    .dataframe tbody tr th {\n",
       "        vertical-align: top;\n",
       "    }\n",
       "\n",
       "    .dataframe thead th {\n",
       "        text-align: right;\n",
       "    }\n",
       "</style>\n",
       "<table border=\"1\" class=\"dataframe\">\n",
       "  <thead>\n",
       "    <tr style=\"text-align: right;\">\n",
       "      <th></th>\n",
       "      <th>Job_domain</th>\n",
       "      <th>Filename</th>\n",
       "      <th>Text</th>\n",
       "    </tr>\n",
       "  </thead>\n",
       "  <tbody>\n",
       "    <tr>\n",
       "      <th>0</th>\n",
       "      <td>CONSULTANT</td>\n",
       "      <td>10332998.pdf</td>\n",
       "      <td>CONSULTANT\\nProfessional Summary\\nAstute and i...</td>\n",
       "    </tr>\n",
       "    <tr>\n",
       "      <th>1</th>\n",
       "      <td>CONSULTANT</td>\n",
       "      <td>10984392.pdf</td>\n",
       "      <td>PROCESS CONSULTANT\\nProfessional Summary\\nExpe...</td>\n",
       "    </tr>\n",
       "    <tr>\n",
       "      <th>2</th>\n",
       "      <td>CONSULTANT</td>\n",
       "      <td>11020140.pdf</td>\n",
       "      <td>CONSULTANT\\nProfessional Profile\\nHighly motiv...</td>\n",
       "    </tr>\n",
       "    <tr>\n",
       "      <th>3</th>\n",
       "      <td>CONSULTANT</td>\n",
       "      <td>11333660.pdf</td>\n",
       "      <td>CONSULTANT\\nSummary\\nMilitary veteran and PhD ...</td>\n",
       "    </tr>\n",
       "    <tr>\n",
       "      <th>4</th>\n",
       "      <td>CONSULTANT</td>\n",
       "      <td>11415967.pdf</td>\n",
       "      <td>CONSULTANT\\nProfessional Summary\\nHighly motiv...</td>\n",
       "    </tr>\n",
       "  </tbody>\n",
       "</table>\n",
       "</div>"
      ],
      "text/plain": [
       "   Job_domain      Filename                                               Text\n",
       "0  CONSULTANT  10332998.pdf  CONSULTANT\\nProfessional Summary\\nAstute and i...\n",
       "1  CONSULTANT  10984392.pdf  PROCESS CONSULTANT\\nProfessional Summary\\nExpe...\n",
       "2  CONSULTANT  11020140.pdf  CONSULTANT\\nProfessional Profile\\nHighly motiv...\n",
       "3  CONSULTANT  11333660.pdf  CONSULTANT\\nSummary\\nMilitary veteran and PhD ...\n",
       "4  CONSULTANT  11415967.pdf  CONSULTANT\\nProfessional Summary\\nHighly motiv..."
      ]
     },
     "execution_count": 5,
     "metadata": {},
     "output_type": "execute_result"
    }
   ],
   "source": [
    "df.head()"
   ]
  },
  {
   "cell_type": "code",
   "execution_count": 7,
   "metadata": {},
   "outputs": [],
   "source": [
    "# Create a dictionary with 'Folder' as keys and lists of 'Text' values\n",
    "new_dict = {}\n",
    "for folder, text in zip(df['Job_domain'], df['Text']):\n",
    "    if folder in new_dict:\n",
    "        new_dict[folder].append(text)\n",
    "    else:\n",
    "        new_dict[folder] = [text]\n"
   ]
  },
  {
   "cell_type": "markdown",
   "metadata": {},
   "source": [
    "Save pdf converted text files to a folder for NER annotations"
   ]
  },
  {
   "cell_type": "code",
   "execution_count": 23,
   "metadata": {},
   "outputs": [
    {
     "name": "stdout",
     "output_type": "stream",
     "text": [
      "Folders created successfully!\n"
     ]
    }
   ],
   "source": [
    "# Create folders and populate with corresponding values\n",
    "for folder, text_list in new_dict.items():\n",
    "    folder_path = os.path.join(r'C:\\Users\\Dell\\OneDrive - Atlantic TU\\Dissertation_stuff\\Resume_dataset_livecareer\\textfolder', folder)  # Path to create folder\n",
    "    os.makedirs(folder_path, exist_ok=True)  # Create folder if it doesn't exist\n",
    "    \n",
    "    # Create separate files for each text in the folder\n",
    "    for i, text in enumerate(text_list, start=1):\n",
    "        file_path = os.path.join(folder_path, f'file{i}.txt')  # Path to create file\n",
    "        with open(file_path, 'w') as file:\n",
    "            file.write(text)  # Write the value to the file\n",
    "\n",
    "print(\"Folders created successfully!\")"
   ]
  }
 ],
 "metadata": {
  "kernelspec": {
   "display_name": "Python 3 (ipykernel)",
   "language": "python",
   "name": "python3"
  },
  "language_info": {
   "codemirror_mode": {
    "name": "ipython",
    "version": 3
   },
   "file_extension": ".py",
   "mimetype": "text/x-python",
   "name": "python",
   "nbconvert_exporter": "python",
   "pygments_lexer": "ipython3",
   "version": "3.9.13"
  },
  "orig_nbformat": 4
 },
 "nbformat": 4,
 "nbformat_minor": 2
}
