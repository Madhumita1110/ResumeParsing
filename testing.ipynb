{
  "cells": [
    {
      "cell_type": "code",
      "execution_count": 1,
      "metadata": {
        "id": "10QqE9YaB-ci"
      },
      "outputs": [],
      "source": [
        "##Install necessary packages\n",
        "\n",
        "%%capture\n",
        "%pip install -U pip setuptools wheel\n",
        "%pip install -U spacy\n",
        "%pip install spacy-transformers\n",
        "!python -m spacy download en_core_web_trf"
      ]
    },
    {
      "cell_type": "code",
      "execution_count": 3,
      "metadata": {
        "id": "P7Pp9Sc1B-cl"
      },
      "outputs": [],
      "source": [
        "##download necessary libraries\n",
        "\n",
        "import os\n",
        "import re\n",
        "import spacy"
      ]
    },
    {
      "cell_type": "code",
      "execution_count": 9,
      "metadata": {
        "id": "SS-7ala1B-cr"
      },
      "outputs": [],
      "source": [
        "##load generated_model/model-best which is fine tuned on RoBERTa\n",
        "\n",
        "nlp = spacy.load('/content/drive/MyDrive/Dissertation/generated_model/model-best')"
      ]
    },
    {
      "cell_type": "code",
      "source": [
        "##define a function to read files which are text files converted from pdf files.\n",
        "\n",
        "def read_file_and_store(filepath):\n",
        "    try:\n",
        "        with open(filepath, \"r\", encoding=\"utf-8\") as file:\n",
        "            content = file.read()\n",
        "        return content\n",
        "    except FileNotFoundError:\n",
        "        print(\"Error: File not found.\")\n",
        "        return None\n",
        "    except Exception as e:\n",
        "        print(f\"Error: {str(e)}\")\n",
        "        return None\n"
      ],
      "metadata": {
        "id": "kGVAeAPbQyWy"
      },
      "execution_count": 56,
      "outputs": []
    },
    {
      "cell_type": "code",
      "source": [
        "##choose your test sample\n",
        "\n",
        "file_content = read_file_and_store('/content/drive/MyDrive/Dissertation/filtered_resumes/105.txt')\n",
        "\n",
        "if file_content is not None:\n",
        "    print(\"File content:\")\n",
        "    print(file_content)"
      ],
      "metadata": {
        "colab": {
          "base_uri": "https://localhost:8080/"
        },
        "id": "ckWn1xqSQ7cz",
        "outputId": "6fa1daa0-6b3d-4471-d618-c7379aacfe49"
      },
      "execution_count": 57,
      "outputs": [
        {
          "output_type": "stream",
          "name": "stdout",
          "text": [
            "File content:\n",
            "DIRECTOR OF INFORMATION TECHNOLOGY\n",
            "Summary\n",
            "I am a solutions-oriented professional with solid experience in various IT environments. LEADERSHIP Motivating and managing and a robust\n",
            "team of internal and remote staff members Establishing and maintaining effective partnerships, through collaboration and information technology in\n",
            "support of the organization. Managing the day-to-day responsibilities of a 24x7x 365 IT organization prudently. Managing a large IT environment\n",
            "with ~10,000 SaaS. Assigning clear authority and holding others accountable for goal achievement.\n",
            "Skills\n",
            "COMMUNICATION\n",
            "Collaborating with clients and fostering a positive business relationship to meet all levels of IT service demands (Technical, R&D and\n",
            "operations and maintenance)\n",
            "Clearly discussing and conveying Information Technology concepts and terminology with both technical and non-technical staff at all levels\n",
            "within and outside the Department\n",
            "Producing clear and concise written documents, emails, project status reports and briefs\n",
            "Communicating effectively with various levels of the organization\n",
            "Expertise\n",
            "Making strategic judgments and evaluating the impact\n",
            "Cloud Environments Design & Implementation\n",
            "Network Design & Implementation VOIP\n",
            "Cyber Security (NIST HITRUST/HIPAA)\n",
            "Project Management\n",
            "Technical Support Management\n",
            "Budget Management\n",
            "Developing and responding to Request for Proposals\n",
            "Current with Emerging Technologies\n",
            "Experience\n",
            "Director of Information technology\n",
            " \n",
            "Sep 2005\n",
            " \n",
            "to \n",
            "Current\n",
            " \n",
            "Company Name\n",
            " \n",
            "ï¼​ \n",
            "City\n",
            " \n",
            ", \n",
            "State\n",
            "At Adsystech I am one of three employees that have a key man insurance policy against them.\n",
            "This in of itself, speaks to the trust and value I provide the organization.\n",
            "I was hired to design, and deploy the first data center the company owned in its efforts to deploy a new offering, an enterprise Software as a\n",
            "Service (SaaS) product.\n",
            "I was initially an employee of an Adsystech customer working with the Adsystech EVP on an enterprise County Wide project and posed\n",
            "the idea that they should move from \"selling\" software to \"renting\" it via an up and coming model SaaS.\n",
            "Today, everyone is using SaaS products and paying monthly for various products but in 2004 (when I initially made the proposal) it was an\n",
            "exciting and new potential market which I leveraged to increase the returns at Adsystech and most importantly, generate new recurring\n",
            "revenue.\n",
            "I was hired in 05' to put in place all things SaaS, this included designing a data center from the ground up, creating cyber security policies\n",
            "and controls, putting together a team to support the data center as well as a team to provide technical support for the new product offering.\n",
            "As an early adopter, in 2008 I designed and deployed a hybrid cloud environment in our data center.\n",
            "Again in 08' this was a new technology but my decision demonstrates foresight in emerging technologies and understand in the value of\n",
            "leveraging technology to become more efficient and financial prudent.\n",
            "I'm very proud of the work I've done and Adsystech, below are some key areas in my control: Network Design Monitoring and\n",
            "Maintenance Cloud Technologies Cyber Security (NITS, CIS, HITRUST/HIPAA) Project Management Technical Support Management\n",
            "Staff Professional Development RFP Responses.\n",
            "Information technology Manager\n",
            " \n",
            "Sep 2003\n",
            " \n",
            "to \n",
            "Sep 2005\n",
            " \n",
            "Company Name\n",
            " \n",
            "ï¼​ \n",
            "City\n",
            " \n",
            ", \n",
            "State\n",
            "City organization responsible for managing +120 Million dollars for support of County Wide Human Service programs.\n",
            "I was hired as Project Manager and was quickly promoted to the Information Technology Manger.\n",
            "As PM I identified, evaluated and lead a bi-County steering committee in all technical aspect in an RFP release and selection process.\n",
            "After promotion I continued to server as the project manager for the 2.5 million dollar system rollout which ranged from gathering the\n",
            "business requirements for the design and deployment to creating the processes and managing the team to for the roll out to ~2000 users\n",
            "across Los Angeles County.\n",
            "In this capacity I managed a project support team including administrators, help desk staff and trainers.\n",
            "As the IT Manager, I supervised network administrators and was responsible for all high level network design and architecture for the\n",
            "organization.\n",
            "I evaluated the security risks, ensuring HITECH/HIPAA protocol were followed.\n",
            "Below are some key areas in my control: Network Design and Oversight Project Management Product Training and Support.\n",
            "Information technology Manager\n",
            " \n",
            "Sep 1998\n",
            " \n",
            "to \n",
            "Mar 2003\n",
            " \n",
            "Company Name\n",
            " \n",
            "ï¼​ \n",
            "City\n",
            " \n",
            ", \n",
            "State\n",
            "At Relax the Back I was responsible for the overall management, infrastructure and strategic planning of our National point of sale networkat 100+ retail locations and 5 distribution centers.\n",
            "I managed the ERP solution at our manufacturing plant in Boston and our accounting and HR systems at the corporate office.\n",
            "Nine short months after starting with the company, I was promoted to IT Manage.\n",
            "I acted as liaison between vendors, operation staff and the CFO for all major projects on time and on budget.\n",
            "Cisco Routers/ Firewalls.\n",
            "Windows Server Management.\n",
            "Desktop Support.\n",
            "Education and Training\n",
            "M.S\n",
            " \n",
            ", \n",
            "IT\n",
            " \n",
            "CSUF\n",
            " \n",
            "IT\n",
            "Fullerton Masters of Science Degree\n",
            " \n",
            ", \n",
            "Information Technology\n",
            " \n",
            "Mihaylo College of Business and Economics, California State University\n",
            "Information Technology GPA: 3.4\n",
            "B.S\n",
            " \n",
            ", \n",
            "IT\n",
            " \n",
            "UOP\n",
            " \n",
            "IT\n",
            "Bachelors of Science Degree\n",
            " \n",
            ", \n",
            "Information Technology\n",
            " \n",
            "University of Phoenix\n",
            " \n",
            "Information Technology GPA: 3.7\n",
            "Skills\n",
            "accounting, Budget Management, budget, bi, Cisco Routers, concise, clients, designing, ERP, financial, Firewalls, help desk, HR, Information\n",
            "Technology, insurance, managing, market, office, 2000, enterprise, network design and architecture, Network Design, Network Design &\n",
            "Implementation, network, policies, processes, Producing, Project Management, promotion I, Proposals, proposal, retail, RFP, selling, software\n",
            "development, strategic, strategic planning, technical support, Desktop Support, VOIP, Windows Server, written, written communication skills\n"
          ]
        }
      ]
    },
    {
      "cell_type": "code",
      "execution_count": 58,
      "metadata": {
        "colab": {
          "base_uri": "https://localhost:8080/"
        },
        "id": "dHFrS48nB-cs",
        "outputId": "041548e4-47c6-4dea-a32b-18418ff239da"
      },
      "outputs": [
        {
          "output_type": "stream",
          "name": "stdout",
          "text": [
            "('DIRECTOR OF INFORMATION TECHNOLOGY', 'JOB TITLE')\n",
            "('Director of Information technology Sep 2005 to Current', 'EXPERIENCE')\n",
            "('Information technology Manager Sep 2003 to Sep 2005', 'EXPERIENCE')\n",
            "('Information technology Manager Sep 1998 to Mar 2003', 'EXPERIENCE')\n",
            "('CSUF', 'EDUCATION')\n",
            "('Fullerton Masters of Science Degree Information Technology', 'EDUCATION')\n",
            "('Mihaylo College of Business and Economics', 'EDUCATION')\n",
            "('California State University', 'EDUCATION')\n",
            "('GPA 3 4', 'EDUCATION')\n",
            "('B S IT UOP IT', 'EDUCATION')\n",
            "('Bachelors of Science', 'EDUCATION')\n",
            "('University of Phoenix', 'EDUCATION')\n",
            "('GPA 3 7', 'EDUCATION')\n",
            "('accounting', 'SKILL')\n",
            "('Budget Management', 'SKILL')\n",
            "('budget', 'SKILL')\n",
            "('Cisco Routers', 'SKILL')\n",
            "('concise', 'SKILL')\n",
            "('clients', 'SKILL')\n",
            "('designing', 'SKILL')\n",
            "('ERP', 'SKILL')\n",
            "('financial', 'SKILL')\n",
            "('Firewalls', 'SKILL')\n",
            "('help desk', 'SKILL')\n",
            "('HR', 'SKILL')\n",
            "('Information Technology', 'SKILL')\n",
            "('insurance', 'SKILL')\n",
            "('managing', 'SKILL')\n",
            "('enterprise', 'SKILL')\n",
            "('network design and architecture', 'SKILL')\n",
            "('Network Design', 'SKILL')\n",
            "('Network Design Implementation', 'SKILL')\n",
            "('network', 'SKILL')\n",
            "('policies', 'SKILL')\n",
            "('processes', 'SKILL')\n",
            "('Producing', 'SKILL')\n",
            "('Project Management', 'SKILL')\n",
            "('promotion I', 'SKILL')\n",
            "('Proposals', 'SKILL')\n",
            "('software development', 'SKILL')\n",
            "('strategic', 'SKILL')\n",
            "('strategic planning', 'SKILL')\n",
            "('technical support', 'SKILL')\n",
            "('Desktop Support', 'SKILL')\n",
            "('VOIP', 'SKILL')\n",
            "('Windows Server', 'SKILL')\n"
          ]
        }
      ],
      "source": [
        "##Named Entity Recognition (NER) using spaCy on the Text Document\n",
        "\n",
        "for doc in nlp.pipe([file_content], disable=[\"tagger\", \"parser\"]):\n",
        "  for ent in doc.ents:\n",
        "    text_name = re.sub('[^A-Za-z0-9]+', ' ', ent.text).strip()\n",
        "    print((text_name,ent.label_))"
      ]
    }
  ],
  "metadata": {
    "kernelspec": {
      "display_name": "Python 3",
      "name": "python3"
    },
    "language_info": {
      "codemirror_mode": {
        "name": "ipython",
        "version": 3
      },
      "file_extension": ".py",
      "mimetype": "text/x-python",
      "name": "python",
      "nbconvert_exporter": "python",
      "pygments_lexer": "ipython3",
      "version": "3.9.13"
    },
    "orig_nbformat": 4,
    "colab": {
      "provenance": [],
      "gpuType": "T4"
    },
    "accelerator": "GPU"
  },
  "nbformat": 4,
  "nbformat_minor": 0
}